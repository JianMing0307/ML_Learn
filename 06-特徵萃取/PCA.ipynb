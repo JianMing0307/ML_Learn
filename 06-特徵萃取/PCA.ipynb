{
 "cells": [
  {
   "cell_type": "markdown",
   "metadata": {},
   "source": [
    "# Unsupervised dimensionality reduction via principal component analysis"
   ]
  },
  {
   "cell_type": "markdown",
   "metadata": {},
   "source": [
    "## The main steps behind principal component analysis"
   ]
  },
  {
   "cell_type": "markdown",
   "metadata": {},
   "source": []
  },
  {
   "cell_type": "markdown",
   "metadata": {},
   "source": [
    "## Extracting the principal components step-by-step"
   ]
  },
  {
   "cell_type": "code",
   "execution_count": 23,
   "metadata": {},
   "outputs": [
    {
     "data": {
      "text/html": [
       "<div>\n",
       "<style scoped>\n",
       "    .dataframe tbody tr th:only-of-type {\n",
       "        vertical-align: middle;\n",
       "    }\n",
       "\n",
       "    .dataframe tbody tr th {\n",
       "        vertical-align: top;\n",
       "    }\n",
       "\n",
       "    .dataframe thead th {\n",
       "        text-align: right;\n",
       "    }\n",
       "</style>\n",
       "<table border=\"1\" class=\"dataframe\">\n",
       "  <thead>\n",
       "    <tr style=\"text-align: right;\">\n",
       "      <th></th>\n",
       "      <th>Class label</th>\n",
       "      <th>Alcohol</th>\n",
       "      <th>Malic acid</th>\n",
       "      <th>Ash</th>\n",
       "      <th>Alcalinity of ash</th>\n",
       "      <th>Magnesium</th>\n",
       "      <th>Total phenols</th>\n",
       "      <th>Flavanoids</th>\n",
       "      <th>Nonflavanoid phenols</th>\n",
       "      <th>Proanthocyanins</th>\n",
       "      <th>Color intensity</th>\n",
       "      <th>Hue</th>\n",
       "      <th>OD280/OD315 of diluted wines</th>\n",
       "      <th>Proline</th>\n",
       "    </tr>\n",
       "  </thead>\n",
       "  <tbody>\n",
       "    <tr>\n",
       "      <th>0</th>\n",
       "      <td>1</td>\n",
       "      <td>14.23</td>\n",
       "      <td>1.71</td>\n",
       "      <td>2.43</td>\n",
       "      <td>15.6</td>\n",
       "      <td>127</td>\n",
       "      <td>2.80</td>\n",
       "      <td>3.06</td>\n",
       "      <td>0.28</td>\n",
       "      <td>2.29</td>\n",
       "      <td>5.64</td>\n",
       "      <td>1.04</td>\n",
       "      <td>3.92</td>\n",
       "      <td>1065</td>\n",
       "    </tr>\n",
       "    <tr>\n",
       "      <th>1</th>\n",
       "      <td>1</td>\n",
       "      <td>13.20</td>\n",
       "      <td>1.78</td>\n",
       "      <td>2.14</td>\n",
       "      <td>11.2</td>\n",
       "      <td>100</td>\n",
       "      <td>2.65</td>\n",
       "      <td>2.76</td>\n",
       "      <td>0.26</td>\n",
       "      <td>1.28</td>\n",
       "      <td>4.38</td>\n",
       "      <td>1.05</td>\n",
       "      <td>3.40</td>\n",
       "      <td>1050</td>\n",
       "    </tr>\n",
       "    <tr>\n",
       "      <th>2</th>\n",
       "      <td>1</td>\n",
       "      <td>13.16</td>\n",
       "      <td>2.36</td>\n",
       "      <td>2.67</td>\n",
       "      <td>18.6</td>\n",
       "      <td>101</td>\n",
       "      <td>2.80</td>\n",
       "      <td>3.24</td>\n",
       "      <td>0.30</td>\n",
       "      <td>2.81</td>\n",
       "      <td>5.68</td>\n",
       "      <td>1.03</td>\n",
       "      <td>3.17</td>\n",
       "      <td>1185</td>\n",
       "    </tr>\n",
       "    <tr>\n",
       "      <th>3</th>\n",
       "      <td>1</td>\n",
       "      <td>14.37</td>\n",
       "      <td>1.95</td>\n",
       "      <td>2.50</td>\n",
       "      <td>16.8</td>\n",
       "      <td>113</td>\n",
       "      <td>3.85</td>\n",
       "      <td>3.49</td>\n",
       "      <td>0.24</td>\n",
       "      <td>2.18</td>\n",
       "      <td>7.80</td>\n",
       "      <td>0.86</td>\n",
       "      <td>3.45</td>\n",
       "      <td>1480</td>\n",
       "    </tr>\n",
       "    <tr>\n",
       "      <th>4</th>\n",
       "      <td>1</td>\n",
       "      <td>13.24</td>\n",
       "      <td>2.59</td>\n",
       "      <td>2.87</td>\n",
       "      <td>21.0</td>\n",
       "      <td>118</td>\n",
       "      <td>2.80</td>\n",
       "      <td>2.69</td>\n",
       "      <td>0.39</td>\n",
       "      <td>1.82</td>\n",
       "      <td>4.32</td>\n",
       "      <td>1.04</td>\n",
       "      <td>2.93</td>\n",
       "      <td>735</td>\n",
       "    </tr>\n",
       "  </tbody>\n",
       "</table>\n",
       "</div>"
      ],
      "text/plain": [
       "   Class label  Alcohol  Malic acid   Ash  Alcalinity of ash  Magnesium  \\\n",
       "0            1    14.23        1.71  2.43               15.6        127   \n",
       "1            1    13.20        1.78  2.14               11.2        100   \n",
       "2            1    13.16        2.36  2.67               18.6        101   \n",
       "3            1    14.37        1.95  2.50               16.8        113   \n",
       "4            1    13.24        2.59  2.87               21.0        118   \n",
       "\n",
       "   Total phenols  Flavanoids  Nonflavanoid phenols  Proanthocyanins  \\\n",
       "0           2.80        3.06                  0.28             2.29   \n",
       "1           2.65        2.76                  0.26             1.28   \n",
       "2           2.80        3.24                  0.30             2.81   \n",
       "3           3.85        3.49                  0.24             2.18   \n",
       "4           2.80        2.69                  0.39             1.82   \n",
       "\n",
       "   Color intensity   Hue  OD280/OD315 of diluted wines  Proline  \n",
       "0             5.64  1.04                          3.92     1065  \n",
       "1             4.38  1.05                          3.40     1050  \n",
       "2             5.68  1.03                          3.17     1185  \n",
       "3             7.80  0.86                          3.45     1480  \n",
       "4             4.32  1.04                          2.93      735  "
      ]
     },
     "execution_count": 23,
     "metadata": {},
     "output_type": "execute_result"
    }
   ],
   "source": [
    "import pandas as pd\n",
    "\n",
    "df_wine = pd.read_csv('https://archive.ics.uci.edu/ml/'\n",
    "                      'machine-learning-databases/wine/wine.data',\n",
    "                      header=None)\n",
    "\n",
    "# if the Wine dataset is temporarily unavailable from the\n",
    "# UCI machine learning repository, un-comment the following line\n",
    "# of code to load the dataset from a local path:\n",
    "\n",
    "# df_wine = pd.read_csv('wine.data', header=None)\n",
    "\n",
    "df_wine.columns = ['Class label', 'Alcohol', 'Malic acid', 'Ash',\n",
    "                   'Alcalinity of ash', 'Magnesium', 'Total phenols',\n",
    "                   'Flavanoids', 'Nonflavanoid phenols', 'Proanthocyanins',\n",
    "                   'Color intensity', 'Hue',\n",
    "                   'OD280/OD315 of diluted wines', 'Proline']\n",
    "\n",
    "df_wine.head()"
   ]
  },
  {
   "cell_type": "markdown",
   "metadata": {},
   "source": [
    "<hr>"
   ]
  },
  {
   "cell_type": "markdown",
   "metadata": {},
   "source": [
    "Splitting the data into 70% training and 30% test subsets."
   ]
  },
  {
   "cell_type": "code",
   "execution_count": 24,
   "metadata": {},
   "outputs": [],
   "source": [
    "from sklearn.model_selection import train_test_split\n",
    "\n",
    "X, y = df_wine.iloc[:, 1:].values, df_wine.iloc[:, 0].values\n",
    "\n",
    "X_train, X_test, y_train, y_test = \\\n",
    "    train_test_split(X, y, test_size=0.3, \n",
    "                     stratify=y,\n",
    "                     random_state=0)"
   ]
  },
  {
   "cell_type": "markdown",
   "metadata": {},
   "source": [
    "Standardizing the data."
   ]
  },
  {
   "cell_type": "code",
   "execution_count": 25,
   "metadata": {},
   "outputs": [],
   "source": [
    "from sklearn.preprocessing import StandardScaler\n",
    "\n",
    "sc = StandardScaler()\n",
    "X_train_std = sc.fit_transform(X_train)\n",
    "X_test_std = sc.transform(X_test)"
   ]
  },
  {
   "cell_type": "markdown",
   "metadata": {},
   "source": [
    "### 建立 covariance matrix."
   ]
  },
  {
   "cell_type": "code",
   "execution_count": 26,
   "metadata": {},
   "outputs": [
    {
     "name": "stdout",
     "output_type": "stream",
     "text": [
      "[[ 1.00813008  0.06709556  0.17405351 -0.35439069  0.26374703  0.29079481\n",
      "   0.21835807 -0.08111974  0.10436705  0.54282846  0.05893536 -0.01797029\n",
      "   0.6415292 ]\n",
      " [ 0.06709556  1.00813008  0.08326463  0.26356776 -0.11349172 -0.33735555\n",
      "  -0.41035281  0.33653916 -0.21602672  0.17504154 -0.551593   -0.40561695\n",
      "  -0.24089991]\n",
      " [ 0.17405351  0.08326463  1.00813008  0.46420355  0.29092834  0.18020384\n",
      "   0.15537535  0.15918823 -0.00703776  0.20549146  0.00665422  0.02039019\n",
      "   0.223495  ]\n",
      " [-0.35439069  0.26356776  0.46420355  1.00813008 -0.07406447 -0.28060672\n",
      "  -0.31391899  0.31581353 -0.24621059 -0.08872685 -0.22595587 -0.16799906\n",
      "  -0.46393412]\n",
      " [ 0.26374703 -0.11349172  0.29092834 -0.07406447  1.00813008  0.25667578\n",
      "   0.21025773 -0.26003426  0.19601657  0.20606456  0.13359768  0.06633258\n",
      "   0.41810999]\n",
      " [ 0.29079481 -0.33735555  0.18020384 -0.28060672  0.25667578  1.00813008\n",
      "   0.87123661 -0.44979792  0.62334099 -0.05689854  0.50664086  0.71978745\n",
      "   0.52986924]\n",
      " [ 0.21835807 -0.41035281  0.15537535 -0.31391899  0.21025773  0.87123661\n",
      "   1.00813008 -0.54824079  0.64800868 -0.15864896  0.60417124  0.79319622\n",
      "   0.52836141]\n",
      " [-0.08111974  0.33653916  0.15918823  0.31581353 -0.26003426 -0.44979792\n",
      "  -0.54824079  1.00813008 -0.39989328  0.19810581 -0.36629252 -0.57622953\n",
      "  -0.34099709]\n",
      " [ 0.10436705 -0.21602672 -0.00703776 -0.24621059  0.19601657  0.62334099\n",
      "   0.64800868 -0.39989328  1.00813008 -0.00330144  0.32019524  0.50615495\n",
      "   0.32976133]\n",
      " [ 0.54282846  0.17504154  0.20549146 -0.08872685  0.20606456 -0.05689854\n",
      "  -0.15864896  0.19810581 -0.00330144  1.00813008 -0.45834115 -0.4666752\n",
      "   0.32156154]\n",
      " [ 0.05893536 -0.551593    0.00665422 -0.22595587  0.13359768  0.50664086\n",
      "   0.60417124 -0.36629252  0.32019524 -0.45834115  1.00813008  0.6435365\n",
      "   0.35356248]\n",
      " [-0.01797029 -0.40561695  0.02039019 -0.16799906  0.06633258  0.71978745\n",
      "   0.79319622 -0.57622953  0.50615495 -0.4666752   0.6435365   1.00813008\n",
      "   0.26670793]\n",
      " [ 0.6415292  -0.24089991  0.223495   -0.46393412  0.41810999  0.52986924\n",
      "   0.52836141 -0.34099709  0.32976133  0.32156154  0.35356248  0.26670793\n",
      "   1.00813008]]\n"
     ]
    }
   ],
   "source": [
    "import numpy as np\n",
    "cov_mat = np.cov(X_train_std.T) #[13,178] cross [178,13]\n",
    "print(cov_mat)"
   ]
  },
  {
   "cell_type": "markdown",
   "metadata": {},
   "source": [
    "### 利用共變異數矩陣個別輸出特徵值與特徵向量"
   ]
  },
  {
   "cell_type": "code",
   "execution_count": 27,
   "metadata": {},
   "outputs": [
    {
     "name": "stdout",
     "output_type": "stream",
     "text": [
      "\n",
      "Eigenvalues \n",
      "[4.84274532 2.41602459 1.54845825 0.96120438 0.84166161 0.6620634\n",
      " 0.51828472 0.34650377 0.3131368  0.10754642 0.21357215 0.15362835\n",
      " 0.1808613 ]\n"
     ]
    }
   ],
   "source": [
    "eigen_vals, eigen_vecs = np.linalg.eig(cov_mat)\n",
    "\n",
    "print('\\nEigenvalues \\n%s' % eigen_vals) #-----> [PC1, PC2, ...........]"
   ]
  },
  {
   "cell_type": "code",
   "execution_count": 44,
   "metadata": {},
   "outputs": [
    {
     "data": {
      "text/plain": [
       "array([[-1.37242175e-01,  5.03034778e-01, -1.37748734e-01,\n",
       "        -3.29610003e-03,  2.90625226e-01, -2.99096847e-01,\n",
       "        -7.90529293e-02,  3.68176414e-01,  3.98377017e-01,\n",
       "        -9.44869777e-02,  3.74638877e-01, -1.27834515e-01,\n",
       "         2.62834263e-01],\n",
       "       [ 2.47243265e-01,  1.64871190e-01,  9.61503863e-02,\n",
       "         5.62646692e-01, -8.95378697e-02, -6.27036396e-01,\n",
       "         2.74002014e-01,  1.25775752e-02, -1.10458230e-01,\n",
       "         2.63652406e-02, -1.37405597e-01,  8.06401578e-02,\n",
       "        -2.66769211e-01],\n",
       "       [-2.54515927e-02,  2.44564761e-01,  6.77775667e-01,\n",
       "        -1.08977111e-01,  1.60834991e-01, -3.89128239e-04,\n",
       "        -1.32328045e-01, -1.77578177e-01, -3.82496856e-01,\n",
       "         1.42747511e-01,  4.61583035e-01,  1.67924873e-02,\n",
       "        -1.15542548e-01],\n",
       "       [ 2.06945084e-01, -1.13529045e-01,  6.25040550e-01,\n",
       "         3.38187002e-02, -5.15873402e-02,  4.05836452e-02,\n",
       "        -2.23999097e-01,  4.40592110e-01,  2.43373853e-01,\n",
       "        -1.30485780e-01, -4.18953989e-01, -1.10845657e-01,\n",
       "         1.99483410e-01],\n",
       "       [-1.54365821e-01,  2.89745182e-01,  1.96135481e-01,\n",
       "        -3.67511070e-01, -6.76487073e-01, -6.57772614e-02,\n",
       "         4.05268966e-01, -1.16617503e-01,  2.58982359e-01,\n",
       "        -6.76080782e-02,  1.00470630e-02,  7.93879562e-02,\n",
       "         2.89018810e-02],\n",
       "       [-3.93769523e-01,  5.08010391e-02,  1.40310572e-01,\n",
       "         2.40245127e-01,  1.18511144e-01,  5.89776247e-02,\n",
       "         3.47419412e-02, -3.50192127e-01,  3.42312860e-01,\n",
       "         4.59917661e-01, -2.21254241e-01, -4.91459313e-01,\n",
       "        -6.63868598e-02],\n",
       "       [-4.17351064e-01, -2.28733792e-02,  1.17053859e-01,\n",
       "         1.87053299e-01,  1.07100349e-01,  3.01103180e-02,\n",
       "        -4.17835724e-02, -2.18718183e-01,  3.61231642e-02,\n",
       "        -8.14583947e-01, -4.17513600e-02, -5.03074004e-02,\n",
       "        -2.13349079e-01],\n",
       "       [ 3.05728961e-01,  9.04888470e-02,  1.31217777e-01,\n",
       "        -2.29262234e-02,  5.07581610e-01,  2.71728086e-01,\n",
       "         6.31145686e-01, -1.97129425e-01,  1.71436883e-01,\n",
       "        -9.57480885e-02, -8.87569452e-02,  1.75328030e-01,\n",
       "         1.86391279e-01],\n",
       "       [-3.06683469e-01,  8.35232677e-03,  3.04309008e-02,\n",
       "         4.96262330e-01, -2.01634619e-01,  4.39997519e-01,\n",
       "         3.23122775e-01,  4.33055871e-01, -2.44370210e-01,\n",
       "         6.72468934e-02,  1.99921861e-01, -3.67595797e-03,\n",
       "         1.68082985e-01],\n",
       "       [ 7.55406578e-02,  5.49775805e-01, -7.99299713e-02,\n",
       "         1.06482939e-01, -5.73607091e-03,  4.11743459e-01,\n",
       "        -2.69082623e-01,  6.68411823e-02,  1.55514919e-01,\n",
       "         8.73336218e-02, -2.21668868e-01,  3.59756535e-01,\n",
       "        -4.66369031e-01],\n",
       "       [-3.26132628e-01, -2.07164328e-01,  5.30591506e-02,\n",
       "        -3.69053747e-01,  2.76914216e-01, -1.41673377e-01,\n",
       "         3.02640661e-01,  4.59762295e-01, -2.11961247e-02,\n",
       "         1.29061125e-01, -9.84694573e-02,  4.04669797e-02,\n",
       "        -5.32483880e-01],\n",
       "       [-3.68610222e-01, -2.49025357e-01,  1.32391030e-01,\n",
       "         1.42016088e-01,  6.66275572e-02, -1.75842384e-01,\n",
       "        -1.30540143e-01, -1.10827548e-01,  2.38089559e-01,\n",
       "         1.87646268e-01,  1.91205783e-02,  7.42229543e-01,\n",
       "         2.37835283e-01],\n",
       "       [-2.96696514e-01,  3.80229423e-01, -7.06502178e-02,\n",
       "        -1.67682173e-01,  1.28029045e-01, -1.38018388e-01,\n",
       "        -8.11335043e-04, -5.60817288e-03, -5.17278463e-01,\n",
       "         1.21112574e-02, -5.42532072e-01,  3.87395209e-02,\n",
       "         3.67763359e-01]])"
      ]
     },
     "execution_count": 44,
     "metadata": {},
     "output_type": "execute_result"
    }
   ],
   "source": [
    "eigen_vecs"
   ]
  },
  {
   "cell_type": "markdown",
   "metadata": {},
   "source": [
    "### 特徵值與特徵向量配對"
   ]
  },
  {
   "cell_type": "code",
   "execution_count": 45,
   "metadata": {},
   "outputs": [
    {
     "name": "stdout",
     "output_type": "stream",
     "text": [
      "[(4.842745315655896, array([-0.13724218,  0.24724326, -0.02545159,  0.20694508, -0.15436582,\n",
      "       -0.39376952, -0.41735106,  0.30572896, -0.30668347,  0.07554066,\n",
      "       -0.32613263, -0.36861022, -0.29669651])), (2.4160245870352295, array([ 0.50303478,  0.16487119,  0.24456476, -0.11352904,  0.28974518,\n",
      "        0.05080104, -0.02287338,  0.09048885,  0.00835233,  0.54977581,\n",
      "       -0.20716433, -0.24902536,  0.38022942])), (1.548458248820353, array([-0.13774873,  0.09615039,  0.67777567,  0.62504055,  0.19613548,\n",
      "        0.14031057,  0.11705386,  0.13121778,  0.0304309 , -0.07992997,\n",
      "        0.05305915,  0.13239103, -0.07065022])), (0.9612043774977376, array([-0.0032961 ,  0.56264669, -0.10897711,  0.0338187 , -0.36751107,\n",
      "        0.24024513,  0.1870533 , -0.02292622,  0.49626233,  0.10648294,\n",
      "       -0.36905375,  0.14201609, -0.16768217])), (0.8416616104578413, array([ 0.29062523, -0.08953787,  0.16083499, -0.05158734, -0.67648707,\n",
      "        0.11851114,  0.10710035,  0.50758161, -0.20163462, -0.00573607,\n",
      "        0.27691422,  0.06662756,  0.12802904])), (0.662063404038304, array([-2.99096847e-01, -6.27036396e-01, -3.89128239e-04,  4.05836452e-02,\n",
      "       -6.57772614e-02,  5.89776247e-02,  3.01103180e-02,  2.71728086e-01,\n",
      "        4.39997519e-01,  4.11743459e-01, -1.41673377e-01, -1.75842384e-01,\n",
      "       -1.38018388e-01])), (0.5182847213561954, array([-0.07905293,  0.27400201, -0.13232805, -0.2239991 ,  0.40526897,\n",
      "        0.03474194, -0.04178357,  0.63114569,  0.32312277, -0.26908262,\n",
      "        0.30264066, -0.13054014, -0.00081134])), (0.3465037664128671, array([ 0.36817641,  0.01257758, -0.17757818,  0.44059211, -0.1166175 ,\n",
      "       -0.35019213, -0.21871818, -0.19712942,  0.43305587,  0.06684118,\n",
      "        0.45976229, -0.11082755, -0.00560817])), (0.31313680047208897, array([ 0.39837702, -0.11045823, -0.38249686,  0.24337385,  0.25898236,\n",
      "        0.34231286,  0.03612316,  0.17143688, -0.24437021,  0.15551492,\n",
      "       -0.02119612,  0.23808956, -0.51727846])), (0.21357214660527343, array([ 0.37463888, -0.1374056 ,  0.46158303, -0.41895399,  0.01004706,\n",
      "       -0.22125424, -0.04175136, -0.08875695,  0.19992186, -0.22166887,\n",
      "       -0.09846946,  0.01912058, -0.54253207])), (0.18086130479496612, array([ 0.26283426, -0.26676921, -0.11554255,  0.19948341,  0.02890188,\n",
      "       -0.06638686, -0.21334908,  0.18639128,  0.16808299, -0.46636903,\n",
      "       -0.53248388,  0.23783528,  0.36776336])), (0.15362835006711023, array([-0.12783451,  0.08064016,  0.01679249, -0.11084566,  0.07938796,\n",
      "       -0.49145931, -0.0503074 ,  0.17532803, -0.00367596,  0.35975654,\n",
      "        0.04046698,  0.74222954,  0.03873952])), (0.10754642369670976, array([-0.09448698,  0.02636524,  0.14274751, -0.13048578, -0.06760808,\n",
      "        0.45991766, -0.81458395, -0.09574809,  0.06724689,  0.08733362,\n",
      "        0.12906113,  0.18764627,  0.01211126]))]\n"
     ]
    }
   ],
   "source": [
    "# Make a list of (eigenvalue, eigenvector) tuples\n",
    "eigen_pairs = [(np.abs(eigen_vals[i]), eigen_vecs[:, i])\n",
    "               for i in range(len(eigen_vals))]\n",
    "\n",
    "# Sort the (eigenvalue, eigenvector) tuples from high to low\n",
    "eigen_pairs.sort(key=lambda k: k[0], reverse=True)\n",
    "print(eigen_pairs)"
   ]
  },
  {
   "cell_type": "markdown",
   "metadata": {},
   "source": [
    "### 取PC1/PC2之eigen_vectors,並形成轉換矩陣W"
   ]
  },
  {
   "cell_type": "code",
   "execution_count": 49,
   "metadata": {},
   "outputs": [
    {
     "name": "stdout",
     "output_type": "stream",
     "text": [
      "Matrix W:\n",
      " [[-0.13724218  0.50303478]\n",
      " [ 0.24724326  0.16487119]\n",
      " [-0.02545159  0.24456476]\n",
      " [ 0.20694508 -0.11352904]\n",
      " [-0.15436582  0.28974518]\n",
      " [-0.39376952  0.05080104]\n",
      " [-0.41735106 -0.02287338]\n",
      " [ 0.30572896  0.09048885]\n",
      " [-0.30668347  0.00835233]\n",
      " [ 0.07554066  0.54977581]\n",
      " [-0.32613263 -0.20716433]\n",
      " [-0.36861022 -0.24902536]\n",
      " [-0.29669651  0.38022942]]\n"
     ]
    }
   ],
   "source": [
    "#取PC1/PC2之eigen_vectors\n",
    "w = np.hstack((eigen_pairs[0][1][:, np.newaxis],\n",
    "               eigen_pairs[1][1][:, np.newaxis]))\n",
    "\n",
    "\n",
    "#取PC3/PC4之eigen_vectors\n",
    "h = np.hstack((eigen_pairs[2][1][:, np.newaxis],\n",
    "               eigen_pairs[3][1][:, np.newaxis]))\n",
    "print('Matrix W:\\n', w)"
   ]
  },
  {
   "cell_type": "markdown",
   "metadata": {},
   "source": [
    "**Note**\n",
    "Depending on which version of NumPy and LAPACK you are using, you may obtain the Matrix W with its signs flipped. Please note that this is not an issue: If $v$ is an eigenvector of a matrix $\\Sigma$, we have\n",
    "\n",
    "$$\\Sigma v = \\lambda v,$$\n",
    "\n",
    "where $\\lambda$ is our eigenvalue,\n",
    "\n",
    "\n",
    "then $-v$ is also an eigenvector that has the same eigenvalue, since\n",
    "$$\\Sigma \\cdot (-v) = -\\Sigma v = -\\lambda v = \\lambda \\cdot (-v).$$"
   ]
  },
  {
   "cell_type": "code",
   "execution_count": 47,
   "metadata": {},
   "outputs": [
    {
     "name": "stdout",
     "output_type": "stream",
     "text": [
      "[ 0.71225893  2.22048673 -0.13025864  0.05962872 -0.50432733 -0.52831584\n",
      " -1.24000033  0.84118003 -1.05215112 -0.29218864 -0.20017028 -0.82164144\n",
      " -0.62946362]\n",
      "---------------------------------------------\n",
      "[2.38299011 0.45458499]\n"
     ]
    }
   ],
   "source": [
    "print(X_train_std[0])\n",
    "print(\"---------------------------------------------\")\n",
    "print(X_train_std[0].dot(w))"
   ]
  },
  {
   "cell_type": "code",
   "execution_count": 48,
   "metadata": {},
   "outputs": [
    {
     "name": "stdout",
     "output_type": "stream",
     "text": [
      "[[ 2.38299011  0.45458499]\n",
      " [-1.96578183  1.65376939]\n",
      " [-2.53907598  1.02909066]\n",
      " [-1.43010776  0.6024011 ]\n",
      " [ 3.14147227  0.66214979]\n",
      " [ 0.50253552 -2.08907131]\n",
      " [ 0.04867722 -2.27536044]\n",
      " [ 2.47888989 -0.08603318]\n",
      " [ 2.01900259 -1.3538719 ]\n",
      " [ 0.75156583 -2.55367947]\n",
      " [ 0.72268915 -1.18404391]\n",
      " [-3.00366211  0.94626934]\n",
      " [ 2.57518878 -1.0697549 ]\n",
      " [ 3.73151104  1.01968876]\n",
      " [-1.12276518  0.13877   ]\n",
      " [ 2.85996853  2.28819559]\n",
      " [-0.74717125 -3.21746061]\n",
      " [-1.58427878  0.16048055]\n",
      " [ 3.38887101  2.11550689]\n",
      " [ 3.15405473  0.54233966]\n",
      " [-1.28036506 -1.72926871]\n",
      " [-1.71438911  0.71745249]\n",
      " [-1.55040291 -1.7580591 ]\n",
      " [ 1.10984489 -1.20480693]\n",
      " [-0.69108418 -1.71385374]\n",
      " [-2.086036   -1.68453671]\n",
      " [ 2.90393456  1.95258805]\n",
      " [-2.07635784  1.47183304]\n",
      " [-1.74756185 -1.25842546]\n",
      " [ 2.59424456 -0.1056037 ]\n",
      " [-2.50372355  0.70412212]\n",
      " [-2.19448402  2.18657552]\n",
      " [ 3.91634534  0.16136475]\n",
      " [-1.11739618  0.51921086]\n",
      " [-0.89996804 -2.04759575]\n",
      " [-1.71469178  0.61392169]\n",
      " [-2.48581303  0.76839561]\n",
      " [-0.76080562 -1.67615627]\n",
      " [ 2.9265371   0.18854741]\n",
      " [ 2.94423716  1.34812388]\n",
      " [-2.38993219  1.0848074 ]\n",
      " [ 2.63885049  0.75274937]\n",
      " [ 2.51009031  2.25237953]\n",
      " [ 3.65248086  1.74839925]\n",
      " [-2.65169609  1.01997476]\n",
      " [ 0.52544559 -2.13528249]\n",
      " [ 2.70197573  0.56476307]\n",
      " [ 3.18414708  2.58094695]\n",
      " [ 1.12517041 -1.85054449]\n",
      " [ 2.92366519  0.41699915]\n",
      " [-1.96122314 -1.28613661]\n",
      " [ 0.54473673 -1.07897226]\n",
      " [-0.77030308 -1.93386815]\n",
      " [-1.16670455  0.00489815]\n",
      " [-1.36475309 -2.13572269]\n",
      " [ 0.43563732 -2.56929607]\n",
      " [ 2.96191745  1.91091009]\n",
      " [ 2.83609557  0.65386032]\n",
      " [ 1.90402089 -0.35296542]\n",
      " [-2.4858391  -0.21308835]\n",
      " [-2.16575568  1.1468486 ]\n",
      " [ 0.00669776 -0.94337624]\n",
      " [ 1.06560181  3.31221025]\n",
      " [ 2.13117911  1.90551304]\n",
      " [ 1.53543483 -1.50854979]\n",
      " [-2.66783112  1.75933599]\n",
      " [ 0.57279998 -2.7511383 ]\n",
      " [-0.70710916 -2.43798549]\n",
      " [-0.99606577 -1.4772411 ]\n",
      " [-2.67324153  1.35779609]\n",
      " [-2.36367378  1.66537927]\n",
      " [-0.39171875  0.13747499]\n",
      " [-2.98908845  2.16983165]\n",
      " [-1.91822539  1.60141809]\n",
      " [ 2.3114458   0.207123  ]\n",
      " [-1.06050503  0.6004608 ]\n",
      " [-2.74858609 -0.29016054]\n",
      " [ 2.26650077  2.14491758]\n",
      " [-1.15517469 -0.50262909]\n",
      " [ 0.16602503 -2.26850051]\n",
      " [ 1.35589389  0.33353007]\n",
      " [-3.31185057  1.39240115]\n",
      " [-0.33245686 -2.15639865]\n",
      " [-2.23205085  0.52868143]\n",
      " [ 0.18583758 -1.44446967]\n",
      " [ 0.84560856  0.17151684]\n",
      " [ 2.69500472  2.74522492]\n",
      " [ 0.44645674 -0.62393943]\n",
      " [-1.88961007 -0.04400723]\n",
      " [-3.08131761  1.59724429]\n",
      " [-3.45716348  1.21428442]\n",
      " [ 3.87665629  0.46446004]\n",
      " [ 1.575516   -1.82299839]\n",
      " [-3.43344371  1.6116814 ]\n",
      " [-4.20642597  2.20145366]\n",
      " [-0.14042971 -2.36871639]\n",
      " [ 1.82731521 -1.39485103]\n",
      " [ 2.20564744  1.28462066]\n",
      " [ 1.64999054  2.33211134]\n",
      " [-1.4611033  -0.46480324]\n",
      " [-0.60047516  0.00920072]\n",
      " [-3.08276231  0.28287148]\n",
      " [ 0.45035749 -2.20263755]\n",
      " [ 0.90806897 -2.0881686 ]\n",
      " [ 3.24973637 -0.18273485]\n",
      " [-3.07882055  0.69622621]\n",
      " [ 2.54277306  1.88571652]\n",
      " [-2.84838157  0.63274325]\n",
      " [-0.88997271 -0.67927226]\n",
      " [ 0.32368249 -2.07006175]\n",
      " [ 0.32007527 -2.88708519]\n",
      " [ 0.44889188 -2.14872532]\n",
      " [-2.46582558  1.0745577 ]\n",
      " [ 2.81678113  0.56344444]\n",
      " [-2.16983025  0.16644199]\n",
      " [-2.66728229  1.38137702]\n",
      " [-3.53223924  2.57906029]\n",
      " [-1.96637688  1.18319185]\n",
      " [ 1.68741216 -1.35075321]\n",
      " [ 0.43521077 -2.40355817]\n",
      " [ 2.59045115  1.63852921]\n",
      " [ 4.35308397  0.66536041]\n",
      " [-1.84315373 -1.50688415]\n",
      " [-0.40860955 -1.29720607]]\n"
     ]
    },
    {
     "data": {
      "image/png": "[encoded data removed]",
      "text/plain": [
       "<Figure size 640x480 with 1 Axes>"
      ]
     },
     "metadata": {},
     "output_type": "display_data"
    }
   ],
   "source": [
    "X_train_pca = X_train_std.dot(w)\n",
    "print(X_train_pca)\n",
    "colors = ['r', 'b', 'g']\n",
    "markers = ['s', 'x', 'o']\n",
    "\n",
    "for l, c, m in zip(np.unique(y_train), colors, markers):\n",
    "    plt.scatter(X_train_pca[y_train == l, 0], \n",
    "                X_train_pca[y_train == l, 1], \n",
    "                c=c, label=l, marker=m)\n",
    "\n",
    "plt.xlabel('PC 1')\n",
    "plt.ylabel('PC 2')\n",
    "plt.legend(loc='lower left')\n",
    "plt.tight_layout()\n",
    "# plt.savefig('images/05_03.png', dpi=300)\n",
    "plt.show()"
   ]
  },
  {
   "cell_type": "markdown",
   "metadata": {},
   "source": [
    "<br>\n",
    "<br>"
   ]
  },
  {
   "cell_type": "markdown",
   "metadata": {},
   "source": [
    "# Principal component analysis in scikit-learn"
   ]
  },
  {
   "cell_type": "markdown",
   "metadata": {},
   "source": [
    "**NOTE**\n",
    "\n",
    "The following four code cells has been added in addition to the content to the book, to illustrate how to replicate the results from our own PCA implementation in scikit-learn:"
   ]
  },
  {
   "cell_type": "code",
   "execution_count": 34,
   "metadata": {},
   "outputs": [
    {
     "data": {
      "text/plain": [
       "array([0.36951469, 0.18434927, 0.11815159, 0.07334252, 0.06422108,\n",
       "       0.05051724, 0.03954654, 0.02643918, 0.02389319, 0.01629614,\n",
       "       0.01380021, 0.01172226, 0.00820609])"
      ]
     },
     "execution_count": 34,
     "metadata": {},
     "output_type": "execute_result"
    }
   ],
   "source": [
    "from sklearn.decomposition import PCA\n",
    "\n",
    "pca = PCA()\n",
    "X_train_pca = pca.fit_transform(X_train_std)\n",
    "pca.explained_variance_ratio_"
   ]
  },
  {
   "cell_type": "code",
   "execution_count": 36,
   "metadata": {},
   "outputs": [],
   "source": [
    "pca = PCA(n_components=2)\n",
    "X_train_pca = pca.fit_transform(X_train_std)\n",
    "X_test_pca = pca.transform(X_test_std)"
   ]
  },
  {
   "cell_type": "markdown",
   "metadata": {},
   "source": [
    "### x_train"
   ]
  },
  {
   "cell_type": "code",
   "execution_count": 50,
   "metadata": {},
   "outputs": [
    {
     "data": {
      "image/png": "[encoded data removed]",
      "text/plain": [
       "<Figure size 640x480 with 1 Axes>"
      ]
     },
     "metadata": {},
     "output_type": "display_data"
    },
    {
     "data": {
      "text/plain": [
       "\"\\nplt.scatter(X_train_pca[:, 0], X_train_pca[:, 1])\\nplt.xlabel('PC 1')\\nplt.ylabel('PC 2')\\nplt.show()\\n\""
      ]
     },
     "execution_count": 50,
     "metadata": {},
     "output_type": "execute_result"
    }
   ],
   "source": [
    "colors = ['r', 'b', 'g']\n",
    "markers = ['s', 'x', 'o']\n",
    "\n",
    "for l, c, m in zip(np.unique(y_train), colors, markers):\n",
    "    plt.scatter(X_train_pca[y_train == l, 0], \n",
    "                X_train_pca[y_train == l, 1], \n",
    "                c=c, label=l, marker=m)\n",
    "\n",
    "plt.xlabel('PC 1')\n",
    "plt.ylabel('PC 2')\n",
    "plt.legend(loc='lower left')\n",
    "plt.tight_layout()\n",
    "# plt.savefig('images/05_03.png', dpi=300)\n",
    "plt.show()\n",
    "\n",
    "\n",
    "\n",
    "'''\n",
    "plt.scatter(X_train_pca[:, 0], X_train_pca[:, 1])\n",
    "plt.xlabel('PC 1')\n",
    "plt.ylabel('PC 2')\n",
    "plt.show()\n",
    "'''"
   ]
  },
  {
   "cell_type": "markdown",
   "metadata": {},
   "source": [
    "### X_test"
   ]
  },
  {
   "cell_type": "code",
   "execution_count": 52,
   "metadata": {},
   "outputs": [
    {
     "data": {
      "image/png": "[encoded data removed]",
      "text/plain": [
       "<Figure size 640x480 with 1 Axes>"
      ]
     },
     "metadata": {},
     "output_type": "display_data"
    }
   ],
   "source": [
    "colors = ['r', 'b', 'g']\n",
    "markers = ['s', 'x', 'o']\n",
    "\n",
    "for l, c, m in zip(np.unique(y_test), colors, markers):\n",
    "    plt.scatter(X_test_pca[y_test == l, 0], \n",
    "                X_test_pca[y_test == l, 1], \n",
    "                c=c, label=l, marker=m)\n",
    "\n",
    "plt.xlabel('PC 1')\n",
    "plt.ylabel('PC 2')\n",
    "plt.legend(loc='lower left')\n",
    "plt.tight_layout()\n",
    "# plt.savefig('images/05_03.png', dpi=300)\n",
    "plt.show()\n"
   ]
  },
  {
   "cell_type": "code",
   "execution_count": 38,
   "metadata": {},
   "outputs": [],
   "source": [
    "from matplotlib.colors import ListedColormap\n",
    "\n",
    "def plot_decision_regions(X, y, classifier, resolution=0.02):\n",
    "\n",
    "    # setup marker generator and color map\n",
    "    markers = ('s', 'x', 'o', '^', 'v')\n",
    "    colors = ('red', 'blue', 'lightgreen', 'gray', 'cyan')\n",
    "    cmap = ListedColormap(colors[:len(np.unique(y))])\n",
    "\n",
    "    # plot the decision surface\n",
    "    x1_min, x1_max = X[:, 0].min() - 1, X[:, 0].max() + 1\n",
    "    x2_min, x2_max = X[:, 1].min() - 1, X[:, 1].max() + 1\n",
    "    xx1, xx2 = np.meshgrid(np.arange(x1_min, x1_max, resolution),\n",
    "                           np.arange(x2_min, x2_max, resolution))\n",
    "    Z = classifier.predict(np.array([xx1.ravel(), xx2.ravel()]).T)\n",
    "    Z = Z.reshape(xx1.shape)\n",
    "    plt.contourf(xx1, xx2, Z, alpha=0.4, cmap=cmap)\n",
    "    plt.xlim(xx1.min(), xx1.max())\n",
    "    plt.ylim(xx2.min(), xx2.max())\n",
    "\n",
    "    # plot class samples\n",
    "    for idx, cl in enumerate(np.unique(y)):\n",
    "        plt.scatter(x=X[y == cl, 0], \n",
    "                    y=X[y == cl, 1],\n",
    "                    alpha=0.6, \n",
    "                    c=cmap(idx),\n",
    "                    edgecolor='black',\n",
    "                    marker=markers[idx], \n",
    "                    label=cl)"
   ]
  },
  {
   "cell_type": "markdown",
   "metadata": {},
   "source": [
    "Training logistic regression classifier using the first 2 principal components."
   ]
  },
  {
   "cell_type": "code",
   "execution_count": 39,
   "metadata": {},
   "outputs": [],
   "source": [
    "from sklearn.linear_model import LogisticRegression\n",
    "\n",
    "pca = PCA(n_components=2)\n",
    "X_train_pca = pca.fit_transform(X_train_std)\n",
    "X_test_pca = pca.transform(X_test_std)\n",
    "\n",
    "lr = LogisticRegression()\n",
    "lr = lr.fit(X_train_pca, y_train)"
   ]
  },
  {
   "cell_type": "code",
   "execution_count": 40,
   "metadata": {},
   "outputs": [
    {
     "name": "stderr",
     "output_type": "stream",
     "text": [
      "*c* argument looks like a single numeric RGB or RGBA sequence, which should be avoided as value-mapping will have precedence in case its length matches with *x* & *y*.  Please use the *color* keyword-argument or provide a 2D array with a single row if you intend to specify the same RGB or RGBA value for all points.\n",
      "*c* argument looks like a single numeric RGB or RGBA sequence, which should be avoided as value-mapping will have precedence in case its length matches with *x* & *y*.  Please use the *color* keyword-argument or provide a 2D array with a single row if you intend to specify the same RGB or RGBA value for all points.\n",
      "C:\\Users\\user\\AppData\\Local\\Temp\\ipykernel_11420\\442015021.py:23: UserWarning: You passed a edgecolor/edgecolors ('black') for an unfilled marker ('x').  Matplotlib is ignoring the edgecolor in favor of the facecolor.  This behavior may change in the future.\n",
      "  plt.scatter(x=X[y == cl, 0],\n",
      "*c* argument looks like a single numeric RGB or RGBA sequence, which should be avoided as value-mapping will have precedence in case its length matches with *x* & *y*.  Please use the *color* keyword-argument or provide a 2D array with a single row if you intend to specify the same RGB or RGBA value for all points.\n"
     ]
    },
    {
     "data": {
      "image/png": "[encoded data removed]",
      "text/plain": [
       "<Figure size 640x480 with 1 Axes>"
      ]
     },
     "metadata": {},
     "output_type": "display_data"
    }
   ],
   "source": [
    "plot_decision_regions(X_train_pca, y_train, classifier=lr)\n",
    "plt.xlabel('PC 1')\n",
    "plt.ylabel('PC 2')\n",
    "plt.legend(loc='lower left')\n",
    "plt.tight_layout()\n",
    "# plt.savefig('images/05_04.png', dpi=300)\n",
    "plt.show()"
   ]
  },
  {
   "cell_type": "code",
   "execution_count": 41,
   "metadata": {},
   "outputs": [
    {
     "name": "stderr",
     "output_type": "stream",
     "text": [
      "*c* argument looks like a single numeric RGB or RGBA sequence, which should be avoided as value-mapping will have precedence in case its length matches with *x* & *y*.  Please use the *color* keyword-argument or provide a 2D array with a single row if you intend to specify the same RGB or RGBA value for all points.\n",
      "*c* argument looks like a single numeric RGB or RGBA sequence, which should be avoided as value-mapping will have precedence in case its length matches with *x* & *y*.  Please use the *color* keyword-argument or provide a 2D array with a single row if you intend to specify the same RGB or RGBA value for all points.\n",
      "C:\\Users\\user\\AppData\\Local\\Temp\\ipykernel_11420\\442015021.py:23: UserWarning: You passed a edgecolor/edgecolors ('black') for an unfilled marker ('x').  Matplotlib is ignoring the edgecolor in favor of the facecolor.  This behavior may change in the future.\n",
      "  plt.scatter(x=X[y == cl, 0],\n",
      "*c* argument looks like a single numeric RGB or RGBA sequence, which should be avoided as value-mapping will have precedence in case its length matches with *x* & *y*.  Please use the *color* keyword-argument or provide a 2D array with a single row if you intend to specify the same RGB or RGBA value for all points.\n"
     ]
    },
    {
     "data": {
      "image/png": "[encoded data removed]",
      "text/plain": [
       "<Figure size 640x480 with 1 Axes>"
      ]
     },
     "metadata": {},
     "output_type": "display_data"
    }
   ],
   "source": [
    "plot_decision_regions(X_test_pca, y_test, classifier=lr)\n",
    "plt.xlabel('PC 1')\n",
    "plt.ylabel('PC 2')\n",
    "plt.legend(loc='lower left')\n",
    "plt.tight_layout()\n",
    "# plt.savefig('images/05_05.png', dpi=300)\n",
    "plt.show()"
   ]
  },
  {
   "cell_type": "code",
   "execution_count": 42,
   "metadata": {},
   "outputs": [
    {
     "data": {
      "text/plain": [
       "array([0.36951469, 0.18434927, 0.11815159, 0.07334252, 0.06422108,\n",
       "       0.05051724, 0.03954654, 0.02643918, 0.02389319, 0.01629614,\n",
       "       0.01380021, 0.01172226, 0.00820609])"
      ]
     },
     "execution_count": 42,
     "metadata": {},
     "output_type": "execute_result"
    }
   ],
   "source": [
    "pca = PCA(n_components=None)\n",
    "X_train_pca = pca.fit_transform(X_train_std)\n",
    "pca.explained_variance_ratio_"
   ]
  },
  {
   "cell_type": "markdown",
   "metadata": {},
   "source": [
    "<br>\n",
    "<br>"
   ]
  }
 ],
 "metadata": {
  "anaconda-cloud": {},
  "kernelspec": {
   "display_name": "Python 3",
   "language": "python",
   "name": "python3"
  },
  "language_info": {
   "codemirror_mode": {
    "name": "ipython",
    "version": 3
   },
   "file_extension": ".py",
   "mimetype": "text/x-python",
   "name": "python",
   "nbconvert_exporter": "python",
   "pygments_lexer": "ipython3",
   "version": "3.9.13"
  },
  "toc": {
   "nav_menu": {},
   "number_sections": true,
   "sideBar": true,
   "skip_h1_title": false,
   "title_cell": "Table of Contents",
   "title_sidebar": "Contents",
   "toc_cell": false,
   "toc_position": {},
   "toc_section_display": true,
   "toc_window_display": false
  }
 },
 "nbformat": 4,
 "nbformat_minor": 1
}
