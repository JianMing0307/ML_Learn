{
 "cells": [
  {
   "cell_type": "code",
   "execution_count": 1,
   "id": "dcf13aeb",
   "metadata": {},
   "outputs": [
    {
     "name": "stdout",
     "output_type": "stream",
     "text": [
      "[[9.99758681e-01 2.41318749e-04 1.93649085e-23]\n",
      " [9.99225369e-01 7.74631276e-04 8.96272190e-22]\n",
      " [9.99751878e-01 2.48122463e-04 5.56811282e-23]]\n",
      "[0 0 0]\n",
      "Setosa\n",
      "-------------------------------------\n",
      "[[2.92053049e-06 9.98730945e-01 1.26613413e-03]\n",
      " [1.30272791e-05 9.98354808e-01 1.63216460e-03]\n",
      " [6.83222994e-07 9.73183149e-01 2.68161674e-02]]\n",
      "[1 1 1]\n",
      "Versicolour\n"
     ]
    }
   ],
   "source": [
    "# %load 'LogisticRegression_test.py'\n",
    "# install graphviz and put <installation path>\\bin into path\n",
    "from sklearn.datasets import load_iris\n",
    "from sklearn.linear_model import LogisticRegression\n",
    "\n",
    "iris = load_iris()\n",
    "X = iris.data[:, 1:]#取3個特徵  # petal length and width\n",
    "y = iris.target\n",
    "clf = LogisticRegression(C=100.0, random_state=1)\n",
    "clf.fit(X, y)\n",
    "\n",
    "\n",
    "print(clf.predict_proba(X[:3, :]))\n",
    "print(clf.predict(X[:3, :]))\n",
    "\n",
    "labels=['Setosa', 'Versicolour', 'Virginica']\n",
    "print(labels[clf.predict(X[:3, :])[0]])\n",
    "\n",
    "print('-------------------------------------')\n",
    "print(clf.predict_proba(X[50:53, :]))\n",
    "print(clf.predict(X[50:53, :]))\n",
    "\n",
    "labels=['Setosa', 'Versicolour', 'Virginica']\n",
    "print(labels[clf.predict(X[50:53, :])[0]])\n",
    "\n"
   ]
  },
  {
   "cell_type": "code",
   "execution_count": null,
   "id": "c5b96816",
   "metadata": {},
   "outputs": [],
   "source": []
  }
 ],
 "metadata": {
  "kernelspec": {
   "display_name": "Python 3",
   "language": "python",
   "name": "python3"
  },
  "language_info": {
   "codemirror_mode": {
    "name": "ipython",
    "version": 3
   },
   "file_extension": ".py",
   "mimetype": "text/x-python",
   "name": "python",
   "nbconvert_exporter": "python",
   "pygments_lexer": "ipython3",
   "version": "3.9.13"
  }
 },
 "nbformat": 4,
 "nbformat_minor": 5
}
