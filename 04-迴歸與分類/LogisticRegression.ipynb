{
 "cells": [
  {
   "cell_type": "code",
   "execution_count": 1,
   "id": "dcf13aeb",
   "metadata": {},
   "outputs": [
    {
     "name": "stdout",
     "output_type": "stream",
     "text": [
      "[[9.99759041e-01 2.40959392e-04 1.93461448e-23]\n",
      " [9.99225864e-01 7.74135910e-04 8.96304186e-22]\n",
      " [9.99752147e-01 2.47852833e-04 5.56544828e-23]]\n",
      "[0 0 0]\n",
      "Setosa\n",
      "-------------------------------------\n",
      "[[2.91696111e-06 9.98730932e-01 1.26615145e-03]\n",
      " [1.30155955e-05 9.98354917e-01 1.63206723e-03]\n",
      " [6.82201684e-07 9.73183388e-01 2.68159303e-02]]\n",
      "[1 1 1]\n",
      "Versicolour\n"
     ]
    }
   ],
   "source": [
    "# %load 'LogisticRegression_test.py'\n",
    "# install graphviz and put <installation path>\\bin into path\n",
    "from sklearn.datasets import load_iris\n",
    "from sklearn.linear_model import LogisticRegression\n",
    "\n",
    "iris = load_iris()\n",
    "X = iris.data[:, 1:] # petal length and width\n",
    "y = iris.target\n",
    "clf = LogisticRegression(C=100.0, random_state=1)\n",
    "clf.fit(X, y)\n",
    "\n",
    "\n",
    "print(clf.predict_proba(X[:3, :]))\n",
    "print(clf.predict(X[:3, :]))\n",
    "\n",
    "labels=['Setosa', 'Versicolour', 'Virginica']\n",
    "print(labels[clf.predict(X[:3, :])[0]])\n",
    "\n",
    "print('-------------------------------------')\n",
    "print(clf.predict_proba(X[50:53, :]))\n",
    "print(clf.predict(X[50:53, :]))\n",
    "\n",
    "labels=['Setosa', 'Versicolour', 'Virginica']\n",
    "print(labels[clf.predict(X[50:53, :])[0]])\n",
    "\n"
   ]
  },
  {
   "cell_type": "code",
   "execution_count": null,
   "id": "c5b96816",
   "metadata": {},
   "outputs": [],
   "source": []
  }
 ],
 "metadata": {
  "kernelspec": {
   "display_name": "Python 3",
   "language": "python",
   "name": "python3"
  },
  "language_info": {
   "codemirror_mode": {
    "name": "ipython",
    "version": 3
   },
   "file_extension": ".py",
   "mimetype": "text/x-python",
   "name": "python",
   "nbconvert_exporter": "python",
   "pygments_lexer": "ipython3",
   "version": "3.8.8"
  }
 },
 "nbformat": 4,
 "nbformat_minor": 5
}
